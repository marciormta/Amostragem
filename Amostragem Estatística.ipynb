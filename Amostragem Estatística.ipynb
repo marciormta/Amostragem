{
 "cells": [
  {
   "cell_type": "code",
   "execution_count": 2,
   "id": "b48d8e14",
   "metadata": {},
   "outputs": [
    {
     "name": "stdout",
     "output_type": "stream",
     "text": [
      "Digite o tamanho da população homogênea: 20\n",
      "Digite o nível de significância desejado (80%, 90% ou 95%): 80\n",
      "Digite a taxa de erro desejada (5%, 6%, 7%, 8%, 9% ou 10%): 10\n",
      "O tamanho da amostra necessário é de 14 registros.\n"
     ]
    }
   ],
   "source": [
    "import pandas as pd\n",
    "import math\n",
    "\n",
    "#Obtém o tamanho da população homogênea\n",
    "n = int(input(\"Digite o tamanho da população homogênea: \"))\n",
    "\n",
    "#Obtém o nível de significância desejado\n",
    "while True:\n",
    "    try:\n",
    "        significancia = float(input(\"Digite o nível de significância desejado (80%, 90% ou 95%): \"))\n",
    "        if significancia not in [80, 90, 95]:\n",
    "            raise ValueError\n",
    "        break\n",
    "    except ValueError:\n",
    "        print(\"Digite um valor válido para significância (80%, 90% ou 95%)\")\n",
    "\n",
    "#Obtém a taxa de erro desejada\n",
    "while True:\n",
    "    try:\n",
    "        taxa_erro = float(input(\"Digite a taxa de erro desejada (5%, 6%, 7%, 8%, 9% ou 10%): \"))\n",
    "        if taxa_erro not in [5, 6, 7, 8, 9, 10]:\n",
    "            raise ValueError\n",
    "        break\n",
    "    except ValueError:\n",
    "        print(\"Digite um valor válido para taxa de erro (5%, 6%, 7%, 8%, 9% ou 10%)\")\n",
    "\n",
    "#Calcula o tamanho da amostra necessário\n",
    "p = 0.5\n",
    "e = taxa_erro/100\n",
    "z = 0\n",
    "if significancia == 80:\n",
    "    z = 1.28\n",
    "elif significancia == 90:\n",
    "    z = 1.645\n",
    "else:\n",
    "    z = 1.96\n",
    "amostragem = math.ceil(((z**2)*p*(1-p)*n)/(((z**2)*p*(1-p))+((e**2)*(n-1))))\n",
    "\n",
    "#Exibe o tamanho da amostra necessário\n",
    "print(f\"O tamanho da amostra necessário é de {amostragem} registros.\")\n"
   ]
  },
  {
   "cell_type": "code",
   "execution_count": null,
   "id": "f288d417",
   "metadata": {},
   "outputs": [],
   "source": []
  }
 ],
 "metadata": {
  "kernelspec": {
   "display_name": "Python 3 (ipykernel)",
   "language": "python",
   "name": "python3"
  },
  "language_info": {
   "codemirror_mode": {
    "name": "ipython",
    "version": 3
   },
   "file_extension": ".py",
   "mimetype": "text/x-python",
   "name": "python",
   "nbconvert_exporter": "python",
   "pygments_lexer": "ipython3",
   "version": "3.11.1"
  }
 },
 "nbformat": 4,
 "nbformat_minor": 5
}
